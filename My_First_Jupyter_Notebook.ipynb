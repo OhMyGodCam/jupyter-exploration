{
  "nbformat": 4,
  "nbformat_minor": 0,
  "metadata": {
    "colab": {
      "provenance": []
    },
    "kernelspec": {
      "name": "python3",
      "display_name": "Python 3"
    },
    "language_info": {
      "name": "python"
    }
  },
  "cells": [
    {
      "cell_type": "markdown",
      "source": [
        "Markdown"
      ],
      "metadata": {
        "id": "qWXCcK_9u7lT"
      }
    },
    {
      "cell_type": "markdown",
      "source": [
        "My first markdown cell in Jupyter"
      ],
      "metadata": {
        "id": "MSQJ64TAS1px"
      }
    },
    {
      "cell_type": "code",
      "source": [
        "print(\"Hello, World!\")"
      ],
      "metadata": {
        "colab": {
          "base_uri": "https://localhost:8080/"
        },
        "id": "n-9ajMELSwuv",
        "outputId": "940fe93c-088b-4ffe-db3a-bdd3133bdf91"
      },
      "execution_count": null,
      "outputs": [
        {
          "output_type": "stream",
          "name": "stdout",
          "text": [
            "Hello, World!\n"
          ]
        }
      ]
    }
  ]
}